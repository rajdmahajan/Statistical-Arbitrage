{
  "nbformat": 4,
  "nbformat_minor": 0,
  "metadata": {
    "colab": {
      "name": "Statistical Arbritrage",
      "provenance": [],
      "collapsed_sections": []
    },
    "kernelspec": {
      "name": "python3",
      "display_name": "Python 3"
    }
  },
  "cells": [
    {
      "cell_type": "markdown",
      "metadata": {
        "id": "4kwmSIIipaNq"
      },
      "source": [
        "# **OBJECTIVE** : To interpret the ADF test results and create a mean reversion strategy.\r\n",
        "\r\n",
        "**STEPS**\r\n",
        "\r\n",
        "\r\n",
        "\r\n",
        "*  Import the libraries and the data\r\n",
        "*  Create the spread\r\n",
        "*  ADF Test\r\n",
        "*   Mean reversion strategy\r\n",
        "*   Plot the profit and loss (PnL)\r\n",
        "\r\n",
        "\r\n",
        "\r\n",
        "\r\n",
        "\r\n",
        "\r\n",
        "\r\n",
        "\r\n",
        "\r\n",
        "\r\n",
        "\r\n",
        "\r\n",
        "\r\n",
        "\r\n",
        "\r\n",
        "\r\n",
        "\r\n",
        "\r\n"
      ]
    },
    {
      "cell_type": "markdown",
      "metadata": {
        "id": "djq8MGoZwiLf"
      },
      "source": [
        "\r\n",
        "Part I\r\n",
        "\r\n",
        "\r\n",
        "*  Mean-reversal Strategy\r\n",
        "*   Stationarity\r\n",
        "*   Math behind ADF Test\r\n",
        "*   ADF Test\r\n",
        "*   Mean-reversal Strategy\r\n",
        "\r\n",
        "\r\n",
        "\r\n",
        "\r\n",
        "\r\n"
      ]
    },
    {
      "cell_type": "markdown",
      "metadata": {
        "id": "mQGGqGdjxjSO"
      },
      "source": [
        "**STATIONARITY**\r\n",
        "\r\n",
        "\r\n",
        "\r\n",
        "\r\n",
        "1.   **A price series is stationary if it doesn’t deviate much but stays around the mean .**\r\n",
        "2.   **Augmented Dickey-Fuller (ADF) Test is the test of stationarity**\r\n",
        "\r\n"
      ]
    },
    {
      "cell_type": "markdown",
      "metadata": {
        "id": "IXNm4HGxyZMj"
      },
      "source": [
        "# **1.IMPORT LIBRARIES**"
      ]
    },
    {
      "cell_type": "code",
      "metadata": {
        "id": "ZWOEMISNye2R"
      },
      "source": [
        "import pandas as pd"
      ],
      "execution_count": null,
      "outputs": []
    },
    {
      "cell_type": "markdown",
      "metadata": {
        "id": "7-LZT8XpyRKY"
      },
      "source": [
        "**UPLOAD FILE**"
      ]
    },
    {
      "cell_type": "code",
      "metadata": {
        "colab": {
          "resources": {
            "http://localhost:8080/nbextensions/google.colab/files.js": {
              "data": "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",
              "ok": true,
              "headers": [
                [
                  "content-type",
                  "application/javascript"
                ]
              ],
              "status": 200,
              "status_text": ""
            }
          },
          "base_uri": "https://localhost:8080/",
          "height": 178
        },
        "id": "7wiBVJOByV0y",
        "outputId": "c854dde5-d252-4986-b407-9958b94385ea"
      },
      "source": [
        "from google.colab import files\r\n",
        "uploaded = files.upload()"
      ],
      "execution_count": null,
      "outputs": [
        {
          "output_type": "display_data",
          "data": {
            "text/html": [
              "\n",
              "     <input type=\"file\" id=\"files-6cb5982c-ade7-4d60-81e5-76904f26caba\" name=\"files[]\" multiple disabled\n",
              "        style=\"border:none\" />\n",
              "     <output id=\"result-6cb5982c-ade7-4d60-81e5-76904f26caba\">\n",
              "      Upload widget is only available when the cell has been executed in the\n",
              "      current browser session. Please rerun this cell to enable.\n",
              "      </output>\n",
              "      <script src=\"/nbextensions/google.colab/files.js\"></script> "
            ],
            "text/plain": [
              "<IPython.core.display.HTML object>"
            ]
          },
          "metadata": {
            "tags": []
          }
        },
        {
          "output_type": "stream",
          "text": [
            "Saving AUDCAD.csv to AUDCAD.csv\n",
            "Saving EURCHF.csv to EURCHF.csv\n",
            "Saving EWA.csv to EWA.csv\n",
            "Saving EWC.csv to EWC.csv\n"
          ],
          "name": "stdout"
        }
      ]
    },
    {
      "cell_type": "markdown",
      "metadata": {
        "id": "r9RA2Q0oy_e8"
      },
      "source": [
        "**READ CSV FILE**\r\n"
      ]
    },
    {
      "cell_type": "code",
      "metadata": {
        "colab": {
          "base_uri": "https://localhost:8080/",
          "height": 230
        },
        "id": "0y8QrnAJzCUv",
        "outputId": "23a7abe5-33d3-450e-96c0-8e86dbe45027"
      },
      "source": [
        "data = pd.read_csv('AUDCAD.csv',index_col=0)\r\n",
        "data.index = pd.to_datetime(data.index)\r\n",
        "data.head()"
      ],
      "execution_count": null,
      "outputs": [
        {
          "output_type": "execute_result",
          "data": {
            "text/html": [
              "<div>\n",
              "<style scoped>\n",
              "    .dataframe tbody tr th:only-of-type {\n",
              "        vertical-align: middle;\n",
              "    }\n",
              "\n",
              "    .dataframe tbody tr th {\n",
              "        vertical-align: top;\n",
              "    }\n",
              "\n",
              "    .dataframe thead th {\n",
              "        text-align: right;\n",
              "    }\n",
              "</style>\n",
              "<table border=\"1\" class=\"dataframe\">\n",
              "  <thead>\n",
              "    <tr style=\"text-align: right;\">\n",
              "      <th></th>\n",
              "      <th>Open</th>\n",
              "      <th>High</th>\n",
              "      <th>Low</th>\n",
              "      <th>Close</th>\n",
              "      <th>Volume</th>\n",
              "    </tr>\n",
              "    <tr>\n",
              "      <th>Date</th>\n",
              "      <th></th>\n",
              "      <th></th>\n",
              "      <th></th>\n",
              "      <th></th>\n",
              "      <th></th>\n",
              "    </tr>\n",
              "  </thead>\n",
              "  <tbody>\n",
              "    <tr>\n",
              "      <th>2010-01-01</th>\n",
              "      <td>0.9455</td>\n",
              "      <td>0.9457</td>\n",
              "      <td>0.9440</td>\n",
              "      <td>0.9451</td>\n",
              "      <td>0</td>\n",
              "    </tr>\n",
              "    <tr>\n",
              "      <th>2010-01-04</th>\n",
              "      <td>0.9393</td>\n",
              "      <td>0.9513</td>\n",
              "      <td>0.9362</td>\n",
              "      <td>0.9494</td>\n",
              "      <td>0</td>\n",
              "    </tr>\n",
              "    <tr>\n",
              "      <th>2010-01-05</th>\n",
              "      <td>0.9498</td>\n",
              "      <td>0.9516</td>\n",
              "      <td>0.9458</td>\n",
              "      <td>0.9473</td>\n",
              "      <td>0</td>\n",
              "    </tr>\n",
              "    <tr>\n",
              "      <th>2010-01-06</th>\n",
              "      <td>0.9473</td>\n",
              "      <td>0.9510</td>\n",
              "      <td>0.9465</td>\n",
              "      <td>0.9490</td>\n",
              "      <td>0</td>\n",
              "    </tr>\n",
              "    <tr>\n",
              "      <th>2010-01-07</th>\n",
              "      <td>0.9489</td>\n",
              "      <td>0.9540</td>\n",
              "      <td>0.9459</td>\n",
              "      <td>0.9487</td>\n",
              "      <td>0</td>\n",
              "    </tr>\n",
              "  </tbody>\n",
              "</table>\n",
              "</div>"
            ],
            "text/plain": [
              "              Open    High     Low   Close  Volume\n",
              "Date                                              \n",
              "2010-01-01  0.9455  0.9457  0.9440  0.9451       0\n",
              "2010-01-04  0.9393  0.9513  0.9362  0.9494       0\n",
              "2010-01-05  0.9498  0.9516  0.9458  0.9473       0\n",
              "2010-01-06  0.9473  0.9510  0.9465  0.9490       0\n",
              "2010-01-07  0.9489  0.9540  0.9459  0.9487       0"
            ]
          },
          "metadata": {
            "tags": []
          },
          "execution_count": 26
        }
      ]
    },
    {
      "cell_type": "markdown",
      "metadata": {
        "id": "8RhyHX6Tzbxz"
      },
      "source": [
        "**Plot the price series**\r\n"
      ]
    },
    {
      "cell_type": "code",
      "metadata": {
        "colab": {
          "base_uri": "https://localhost:8080/",
          "height": 509
        },
        "id": "AvoXDv2Ozdne",
        "outputId": "9776cbb3-477d-4eb9-8493-e12cf792d122"
      },
      "source": [
        "# Import matplotlib to plot the graph\r\n",
        "import matplotlib.pyplot as plt\r\n",
        "%matplotlib inline\r\n",
        "plt.style.use('seaborn-darkgrid')\r\n",
        "plt.rcParams['figure.figsize'] = (16,9)\r\n",
        "\r\n",
        "# Plot the prices series\r\n",
        "data.Close.plot()\r\n",
        "\r\n",
        "# Show the plot\r\n",
        "plt.show()"
      ],
      "execution_count": null,
      "outputs": [
        {
          "output_type": "display_data",
          "data": {
            "image/png": "[encoded data removed]",
            "text/plain": [
              "<Figure size 1152x648 with 1 Axes>"
            ]
          },
          "metadata": {
            "tags": []
          }
        }
      ]
    },
    {
      "cell_type": "markdown",
      "metadata": {
        "id": "_gffkbPSz0Ja"
      },
      "source": [
        "# **2.Perform ADF Test**"
      ]
    },
    {
      "cell_type": "code",
      "metadata": {
        "colab": {
          "base_uri": "https://localhost:8080/"
        },
        "id": "Q7kpEYvMz24S",
        "outputId": "c89231a1-fa31-433a-8b24-5c8f704ed59b"
      },
      "source": [
        "# To perform ADF Test\r\n",
        "from statsmodels.tsa.stattools import adfuller\r\n",
        "\r\n",
        "help(adfuller)"
      ],
      "execution_count": null,
      "outputs": [
        {
          "output_type": "stream",
          "text": [
            "Help on function adfuller in module statsmodels.tsa.stattools:\n",
            "\n",
            "adfuller(x, maxlag=None, regression='c', autolag='AIC', store=False, regresults=False)\n",
            "    Augmented Dickey-Fuller unit root test\n",
            "    \n",
            "    The Augmented Dickey-Fuller test can be used to test for a unit root in a\n",
            "    univariate process in the presence of serial correlation.\n",
            "    \n",
            "    Parameters\n",
            "    ----------\n",
            "    x : array_like, 1d\n",
            "        data series\n",
            "    maxlag : int\n",
            "        Maximum lag which is included in test, default 12*(nobs/100)^{1/4}\n",
            "    regression : {'c','ct','ctt','nc'}\n",
            "        Constant and trend order to include in regression\n",
            "    \n",
            "        * 'c' : constant only (default)\n",
            "        * 'ct' : constant and trend\n",
            "        * 'ctt' : constant, and linear and quadratic trend\n",
            "        * 'nc' : no constant, no trend\n",
            "    autolag : {'AIC', 'BIC', 't-stat', None}\n",
            "        * if None, then maxlag lags are used\n",
            "        * if 'AIC' (default) or 'BIC', then the number of lags is chosen\n",
            "          to minimize the corresponding information criterion\n",
            "        * 't-stat' based choice of maxlag.  Starts with maxlag and drops a\n",
            "          lag until the t-statistic on the last lag length is significant\n",
            "          using a 5%-sized test\n",
            "    store : bool\n",
            "        If True, then a result instance is returned additionally to\n",
            "        the adf statistic. Default is False\n",
            "    regresults : bool, optional\n",
            "        If True, the full regression results are returned. Default is False\n",
            "    \n",
            "    Returns\n",
            "    -------\n",
            "    adf : float\n",
            "        Test statistic\n",
            "    pvalue : float\n",
            "        MacKinnon's approximate p-value based on MacKinnon (1994, 2010)\n",
            "    usedlag : int\n",
            "        Number of lags used\n",
            "    nobs : int\n",
            "        Number of observations used for the ADF regression and calculation of\n",
            "        the critical values\n",
            "    critical values : dict\n",
            "        Critical values for the test statistic at the 1 %, 5 %, and 10 %\n",
            "        levels. Based on MacKinnon (2010)\n",
            "    icbest : float\n",
            "        The maximized information criterion if autolag is not None.\n",
            "    resstore : ResultStore, optional\n",
            "        A dummy class with results attached as attributes\n",
            "    \n",
            "    Notes\n",
            "    -----\n",
            "    The null hypothesis of the Augmented Dickey-Fuller is that there is a unit\n",
            "    root, with the alternative that there is no unit root. If the pvalue is\n",
            "    above a critical size, then we cannot reject that there is a unit root.\n",
            "    \n",
            "    The p-values are obtained through regression surface approximation from\n",
            "    MacKinnon 1994, but using the updated 2010 tables. If the p-value is close\n",
            "    to significant, then the critical values should be used to judge whether\n",
            "    to reject the null.\n",
            "    \n",
            "    The autolag option and maxlag for it are described in Greene.\n",
            "    \n",
            "    Examples\n",
            "    --------\n",
            "    See example notebook\n",
            "    \n",
            "    References\n",
            "    ----------\n",
            "    .. [*] W. Green.  \"Econometric Analysis,\" 5th ed., Pearson, 2003.\n",
            "    \n",
            "    .. [*] Hamilton, J.D.  \"Time Series Analysis\".  Princeton, 1994.\n",
            "    \n",
            "    .. [*] MacKinnon, J.G. 1994.  \"Approximate asymptotic distribution functions for\n",
            "        unit-root and cointegration tests.  `Journal of Business and Economic\n",
            "        Statistics` 12, 167-76.\n",
            "    \n",
            "    .. [*] MacKinnon, J.G. 2010. \"Critical Values for Cointegration Tests.\"  Queen's\n",
            "        University, Dept of Economics, Working Papers.  Available at\n",
            "        http://ideas.repec.org/p/qed/wpaper/1227.html\n",
            "\n"
          ],
          "name": "stdout"
        }
      ]
    },
    {
      "cell_type": "code",
      "metadata": {
        "id": "jRV49Dwaz8I_"
      },
      "source": [
        "# Compute ADF test statistics\r\n",
        "adf = adfuller(data.Close, maxlag = 1)"
      ],
      "execution_count": null,
      "outputs": []
    },
    {
      "cell_type": "markdown",
      "metadata": {
        "id": "fDMOzfG20Fgp"
      },
      "source": [
        "**ADF Test statistic**"
      ]
    },
    {
      "cell_type": "code",
      "metadata": {
        "colab": {
          "base_uri": "https://localhost:8080/"
        },
        "id": "DChPahk60El7",
        "outputId": "5c3c8cf9-d072-4673-c09a-668483bc8948"
      },
      "source": [
        "adf[0]"
      ],
      "execution_count": null,
      "outputs": [
        {
          "output_type": "execute_result",
          "data": {
            "text/plain": [
              "-2.840084643195786"
            ]
          },
          "metadata": {
            "tags": []
          },
          "execution_count": 35
        }
      ]
    },
    {
      "cell_type": "markdown",
      "metadata": {
        "id": "P4zyrSGt0PHI"
      },
      "source": [
        "**Critical values**"
      ]
    },
    {
      "cell_type": "code",
      "metadata": {
        "colab": {
          "base_uri": "https://localhost:8080/"
        },
        "id": "-V7q3zqR0YNS",
        "outputId": "e52f5596-f83c-40c9-91a4-639e1467d907"
      },
      "source": [
        "adf[4]"
      ],
      "execution_count": null,
      "outputs": [
        {
          "output_type": "execute_result",
          "data": {
            "text/plain": [
              "{'1%': -3.432712096025199,\n",
              " '10%': -2.567325544465341,\n",
              " '5%': -2.8625836063453063}"
            ]
          },
          "metadata": {
            "tags": []
          },
          "execution_count": 36
        }
      ]
    },
    {
      "cell_type": "markdown",
      "metadata": {
        "id": "Ad9nFX3M0-xZ"
      },
      "source": [
        "# **3.To built a Mean Reversion Strategy**"
      ]
    },
    {
      "cell_type": "markdown",
      "metadata": {
        "id": "0SkZSPdV1EfJ"
      },
      "source": [
        "**STEPS**\r\n",
        "•Moving average and moving standard deviation'\r\n",
        "\r\n",
        "\r\n",
        "\r\n",
        "\r\n",
        "1.  Upper band and lower band\r\n",
        "2.  Long positions\r\n",
        "3. Short positions\r\n",
        "4. Strategy PnL\r\n",
        "\r\n",
        "\r\n",
        "\r\n"
      ]
    },
    {
      "cell_type": "markdown",
      "metadata": {
        "id": "8QC4TqZV2EC8"
      },
      "source": [
        "**Mean Reversion Strategy on AUDCAD**"
      ]
    },
    {
      "cell_type": "code",
      "metadata": {
        "id": "_hElWVbz2Be5"
      },
      "source": [
        "import numpy as np\r\n",
        "import pandas as pd\r\n",
        "import matplotlib.pyplot as plt\r\n",
        "%matplotlib inline\r\n",
        "plt.style.use('seaborn-darkgrid')\r\n",
        "plt.rcParams['figure.figsize'] = (10, 7)"
      ],
      "execution_count": null,
      "outputs": []
    },
    {
      "cell_type": "markdown",
      "metadata": {
        "id": "u1r7B3uI1DFo"
      },
      "source": [
        ""
      ]
    },
    {
      "cell_type": "code",
      "metadata": {
        "id": "bZAFDuc50dh5"
      },
      "source": [
        "df = pd.read_csv('AUDCAD.csv', index_col=0)\r\n",
        "df.index = pd.to_datetime(df.index)"
      ],
      "execution_count": null,
      "outputs": []
    },
    {
      "cell_type": "code",
      "metadata": {
        "colab": {
          "base_uri": "https://localhost:8080/",
          "height": 411
        },
        "id": "1AWFn5gb2PeJ",
        "outputId": "450989f4-b2f1-4a50-b749-40c9e45fb6d0"
      },
      "source": [
        "df.Close.plot()\r\n",
        "plt.ylabel(\"AUDCAD\")\r\n",
        "plt.show()"
      ],
      "execution_count": null,
      "outputs": [
        {
          "output_type": "display_data",
          "data": {
            "image/png": "[encoded data removed]",
            "text/plain": [
              "<Figure size 720x504 with 1 Axes>"
            ]
          },
          "metadata": {
            "tags": []
          }
        }
      ]
    },
    {
      "cell_type": "markdown",
      "metadata": {
        "id": "ijy7hOuC2Y2z"
      },
      "source": [
        "**Moving average and moving standard deviation**"
      ]
    },
    {
      "cell_type": "code",
      "metadata": {
        "colab": {
          "base_uri": "https://localhost:8080/",
          "height": 230
        },
        "id": "8EkoCBa12ckS",
        "outputId": "5b93506f-e9e4-4f1c-8279-a61fd58e3847"
      },
      "source": [
        "# Moving Average\r\n",
        "df['moving_average'] = df.Close.rolling(5).mean()\r\n",
        "# Moving Standard Deviation\r\n",
        "df['moving_std_dev'] = df.Close.rolling(5).std()\r\n",
        "df.head(5)"
      ],
      "execution_count": null,
      "outputs": [
        {
          "output_type": "execute_result",
          "data": {
            "text/html": [
              "<div>\n",
              "<style scoped>\n",
              "    .dataframe tbody tr th:only-of-type {\n",
              "        vertical-align: middle;\n",
              "    }\n",
              "\n",
              "    .dataframe tbody tr th {\n",
              "        vertical-align: top;\n",
              "    }\n",
              "\n",
              "    .dataframe thead th {\n",
              "        text-align: right;\n",
              "    }\n",
              "</style>\n",
              "<table border=\"1\" class=\"dataframe\">\n",
              "  <thead>\n",
              "    <tr style=\"text-align: right;\">\n",
              "      <th></th>\n",
              "      <th>Open</th>\n",
              "      <th>High</th>\n",
              "      <th>Low</th>\n",
              "      <th>Close</th>\n",
              "      <th>Volume</th>\n",
              "      <th>moving_average</th>\n",
              "      <th>moving_std_dev</th>\n",
              "    </tr>\n",
              "    <tr>\n",
              "      <th>Date</th>\n",
              "      <th></th>\n",
              "      <th></th>\n",
              "      <th></th>\n",
              "      <th></th>\n",
              "      <th></th>\n",
              "      <th></th>\n",
              "      <th></th>\n",
              "    </tr>\n",
              "  </thead>\n",
              "  <tbody>\n",
              "    <tr>\n",
              "      <th>2010-01-01</th>\n",
              "      <td>0.9455</td>\n",
              "      <td>0.9457</td>\n",
              "      <td>0.9440</td>\n",
              "      <td>0.9451</td>\n",
              "      <td>0</td>\n",
              "      <td>NaN</td>\n",
              "      <td>NaN</td>\n",
              "    </tr>\n",
              "    <tr>\n",
              "      <th>2010-01-04</th>\n",
              "      <td>0.9393</td>\n",
              "      <td>0.9513</td>\n",
              "      <td>0.9362</td>\n",
              "      <td>0.9494</td>\n",
              "      <td>0</td>\n",
              "      <td>NaN</td>\n",
              "      <td>NaN</td>\n",
              "    </tr>\n",
              "    <tr>\n",
              "      <th>2010-01-05</th>\n",
              "      <td>0.9498</td>\n",
              "      <td>0.9516</td>\n",
              "      <td>0.9458</td>\n",
              "      <td>0.9473</td>\n",
              "      <td>0</td>\n",
              "      <td>NaN</td>\n",
              "      <td>NaN</td>\n",
              "    </tr>\n",
              "    <tr>\n",
              "      <th>2010-01-06</th>\n",
              "      <td>0.9473</td>\n",
              "      <td>0.9510</td>\n",
              "      <td>0.9465</td>\n",
              "      <td>0.9490</td>\n",
              "      <td>0</td>\n",
              "      <td>NaN</td>\n",
              "      <td>NaN</td>\n",
              "    </tr>\n",
              "    <tr>\n",
              "      <th>2010-01-07</th>\n",
              "      <td>0.9489</td>\n",
              "      <td>0.9540</td>\n",
              "      <td>0.9459</td>\n",
              "      <td>0.9487</td>\n",
              "      <td>0</td>\n",
              "      <td>0.9479</td>\n",
              "      <td>0.001754</td>\n",
              "    </tr>\n",
              "  </tbody>\n",
              "</table>\n",
              "</div>"
            ],
            "text/plain": [
              "              Open    High     Low  ...  Volume  moving_average  moving_std_dev\n",
              "Date                                ...                                        \n",
              "2010-01-01  0.9455  0.9457  0.9440  ...       0             NaN             NaN\n",
              "2010-01-04  0.9393  0.9513  0.9362  ...       0             NaN             NaN\n",
              "2010-01-05  0.9498  0.9516  0.9458  ...       0             NaN             NaN\n",
              "2010-01-06  0.9473  0.9510  0.9465  ...       0             NaN             NaN\n",
              "2010-01-07  0.9489  0.9540  0.9459  ...       0          0.9479        0.001754\n",
              "\n",
              "[5 rows x 7 columns]"
            ]
          },
          "metadata": {
            "tags": []
          },
          "execution_count": 40
        }
      ]
    },
    {
      "cell_type": "markdown",
      "metadata": {
        "id": "iJBBaSrC27fD"
      },
      "source": [
        "# **BOLLINGER BANDS : AUDCAD**\r\n",
        "**Upper band and lower band**"
      ]
    },
    {
      "cell_type": "code",
      "metadata": {
        "colab": {
          "base_uri": "https://localhost:8080/",
          "height": 230
        },
        "id": "zORNsTcj2-xz",
        "outputId": "1eb734e4-2d25-46f5-b3d4-001d8c769b35"
      },
      "source": [
        "df['upper_band'] = df.moving_average + 0.5*df.moving_std_dev\r\n",
        "df['lower_band'] = df.moving_average - 0.5*df.moving_std_dev\r\n",
        "df.head(5)"
      ],
      "execution_count": null,
      "outputs": [
        {
          "output_type": "execute_result",
          "data": {
            "text/html": [
              "<div>\n",
              "<style scoped>\n",
              "    .dataframe tbody tr th:only-of-type {\n",
              "        vertical-align: middle;\n",
              "    }\n",
              "\n",
              "    .dataframe tbody tr th {\n",
              "        vertical-align: top;\n",
              "    }\n",
              "\n",
              "    .dataframe thead th {\n",
              "        text-align: right;\n",
              "    }\n",
              "</style>\n",
              "<table border=\"1\" class=\"dataframe\">\n",
              "  <thead>\n",
              "    <tr style=\"text-align: right;\">\n",
              "      <th></th>\n",
              "      <th>Open</th>\n",
              "      <th>High</th>\n",
              "      <th>Low</th>\n",
              "      <th>Close</th>\n",
              "      <th>Volume</th>\n",
              "      <th>moving_average</th>\n",
              "      <th>moving_std_dev</th>\n",
              "      <th>upper_band</th>\n",
              "      <th>lower_band</th>\n",
              "    </tr>\n",
              "    <tr>\n",
              "      <th>Date</th>\n",
              "      <th></th>\n",
              "      <th></th>\n",
              "      <th></th>\n",
              "      <th></th>\n",
              "      <th></th>\n",
              "      <th></th>\n",
              "      <th></th>\n",
              "      <th></th>\n",
              "      <th></th>\n",
              "    </tr>\n",
              "  </thead>\n",
              "  <tbody>\n",
              "    <tr>\n",
              "      <th>2010-01-01</th>\n",
              "      <td>0.9455</td>\n",
              "      <td>0.9457</td>\n",
              "      <td>0.9440</td>\n",
              "      <td>0.9451</td>\n",
              "      <td>0</td>\n",
              "      <td>NaN</td>\n",
              "      <td>NaN</td>\n",
              "      <td>NaN</td>\n",
              "      <td>NaN</td>\n",
              "    </tr>\n",
              "    <tr>\n",
              "      <th>2010-01-04</th>\n",
              "      <td>0.9393</td>\n",
              "      <td>0.9513</td>\n",
              "      <td>0.9362</td>\n",
              "      <td>0.9494</td>\n",
              "      <td>0</td>\n",
              "      <td>NaN</td>\n",
              "      <td>NaN</td>\n",
              "      <td>NaN</td>\n",
              "      <td>NaN</td>\n",
              "    </tr>\n",
              "    <tr>\n",
              "      <th>2010-01-05</th>\n",
              "      <td>0.9498</td>\n",
              "      <td>0.9516</td>\n",
              "      <td>0.9458</td>\n",
              "      <td>0.9473</td>\n",
              "      <td>0</td>\n",
              "      <td>NaN</td>\n",
              "      <td>NaN</td>\n",
              "      <td>NaN</td>\n",
              "      <td>NaN</td>\n",
              "    </tr>\n",
              "    <tr>\n",
              "      <th>2010-01-06</th>\n",
              "      <td>0.9473</td>\n",
              "      <td>0.9510</td>\n",
              "      <td>0.9465</td>\n",
              "      <td>0.9490</td>\n",
              "      <td>0</td>\n",
              "      <td>NaN</td>\n",
              "      <td>NaN</td>\n",
              "      <td>NaN</td>\n",
              "      <td>NaN</td>\n",
              "    </tr>\n",
              "    <tr>\n",
              "      <th>2010-01-07</th>\n",
              "      <td>0.9489</td>\n",
              "      <td>0.9540</td>\n",
              "      <td>0.9459</td>\n",
              "      <td>0.9487</td>\n",
              "      <td>0</td>\n",
              "      <td>0.9479</td>\n",
              "      <td>0.001754</td>\n",
              "      <td>0.948777</td>\n",
              "      <td>0.947023</td>\n",
              "    </tr>\n",
              "  </tbody>\n",
              "</table>\n",
              "</div>"
            ],
            "text/plain": [
              "              Open    High     Low  ...  moving_std_dev  upper_band  lower_band\n",
              "Date                                ...                                        \n",
              "2010-01-01  0.9455  0.9457  0.9440  ...             NaN         NaN         NaN\n",
              "2010-01-04  0.9393  0.9513  0.9362  ...             NaN         NaN         NaN\n",
              "2010-01-05  0.9498  0.9516  0.9458  ...             NaN         NaN         NaN\n",
              "2010-01-06  0.9473  0.9510  0.9465  ...             NaN         NaN         NaN\n",
              "2010-01-07  0.9489  0.9540  0.9459  ...        0.001754    0.948777    0.947023\n",
              "\n",
              "[5 rows x 9 columns]"
            ]
          },
          "metadata": {
            "tags": []
          },
          "execution_count": 41
        }
      ]
    },
    {
      "cell_type": "markdown",
      "metadata": {
        "id": "dglScQTnSO8f"
      },
      "source": [
        "# **LONG POSITIONS** \r\n"
      ]
    },
    {
      "cell_type": "markdown",
      "metadata": {
        "id": "RwpsmoCG34yk"
      },
      "source": [
        "**Long entry and exit**"
      ]
    },
    {
      "cell_type": "code",
      "metadata": {
        "colab": {
          "base_uri": "https://localhost:8080/",
          "height": 230
        },
        "id": "y5fPvO-t37Q2",
        "outputId": "12b215e8-0f39-47c9-f1f9-f3a6db72ca16"
      },
      "source": [
        "df['long_entry'] = df.Close < df.lower_band\r\n",
        "df['long_exit'] = df.Close >= df.moving_average\r\n",
        "df.head(5)"
      ],
      "execution_count": null,
      "outputs": [
        {
          "output_type": "execute_result",
          "data": {
            "text/html": [
              "<div>\n",
              "<style scoped>\n",
              "    .dataframe tbody tr th:only-of-type {\n",
              "        vertical-align: middle;\n",
              "    }\n",
              "\n",
              "    .dataframe tbody tr th {\n",
              "        vertical-align: top;\n",
              "    }\n",
              "\n",
              "    .dataframe thead th {\n",
              "        text-align: right;\n",
              "    }\n",
              "</style>\n",
              "<table border=\"1\" class=\"dataframe\">\n",
              "  <thead>\n",
              "    <tr style=\"text-align: right;\">\n",
              "      <th></th>\n",
              "      <th>Open</th>\n",
              "      <th>High</th>\n",
              "      <th>Low</th>\n",
              "      <th>Close</th>\n",
              "      <th>Volume</th>\n",
              "      <th>moving_average</th>\n",
              "      <th>moving_std_dev</th>\n",
              "      <th>upper_band</th>\n",
              "      <th>lower_band</th>\n",
              "      <th>long_entry</th>\n",
              "      <th>long_exit</th>\n",
              "    </tr>\n",
              "    <tr>\n",
              "      <th>Date</th>\n",
              "      <th></th>\n",
              "      <th></th>\n",
              "      <th></th>\n",
              "      <th></th>\n",
              "      <th></th>\n",
              "      <th></th>\n",
              "      <th></th>\n",
              "      <th></th>\n",
              "      <th></th>\n",
              "      <th></th>\n",
              "      <th></th>\n",
              "    </tr>\n",
              "  </thead>\n",
              "  <tbody>\n",
              "    <tr>\n",
              "      <th>2010-01-01</th>\n",
              "      <td>0.9455</td>\n",
              "      <td>0.9457</td>\n",
              "      <td>0.9440</td>\n",
              "      <td>0.9451</td>\n",
              "      <td>0</td>\n",
              "      <td>NaN</td>\n",
              "      <td>NaN</td>\n",
              "      <td>NaN</td>\n",
              "      <td>NaN</td>\n",
              "      <td>False</td>\n",
              "      <td>False</td>\n",
              "    </tr>\n",
              "    <tr>\n",
              "      <th>2010-01-04</th>\n",
              "      <td>0.9393</td>\n",
              "      <td>0.9513</td>\n",
              "      <td>0.9362</td>\n",
              "      <td>0.9494</td>\n",
              "      <td>0</td>\n",
              "      <td>NaN</td>\n",
              "      <td>NaN</td>\n",
              "      <td>NaN</td>\n",
              "      <td>NaN</td>\n",
              "      <td>False</td>\n",
              "      <td>False</td>\n",
              "    </tr>\n",
              "    <tr>\n",
              "      <th>2010-01-05</th>\n",
              "      <td>0.9498</td>\n",
              "      <td>0.9516</td>\n",
              "      <td>0.9458</td>\n",
              "      <td>0.9473</td>\n",
              "      <td>0</td>\n",
              "      <td>NaN</td>\n",
              "      <td>NaN</td>\n",
              "      <td>NaN</td>\n",
              "      <td>NaN</td>\n",
              "      <td>False</td>\n",
              "      <td>False</td>\n",
              "    </tr>\n",
              "    <tr>\n",
              "      <th>2010-01-06</th>\n",
              "      <td>0.9473</td>\n",
              "      <td>0.9510</td>\n",
              "      <td>0.9465</td>\n",
              "      <td>0.9490</td>\n",
              "      <td>0</td>\n",
              "      <td>NaN</td>\n",
              "      <td>NaN</td>\n",
              "      <td>NaN</td>\n",
              "      <td>NaN</td>\n",
              "      <td>False</td>\n",
              "      <td>False</td>\n",
              "    </tr>\n",
              "    <tr>\n",
              "      <th>2010-01-07</th>\n",
              "      <td>0.9489</td>\n",
              "      <td>0.9540</td>\n",
              "      <td>0.9459</td>\n",
              "      <td>0.9487</td>\n",
              "      <td>0</td>\n",
              "      <td>0.9479</td>\n",
              "      <td>0.001754</td>\n",
              "      <td>0.948777</td>\n",
              "      <td>0.947023</td>\n",
              "      <td>False</td>\n",
              "      <td>True</td>\n",
              "    </tr>\n",
              "  </tbody>\n",
              "</table>\n",
              "</div>"
            ],
            "text/plain": [
              "              Open    High     Low  ...  lower_band  long_entry  long_exit\n",
              "Date                                ...                                   \n",
              "2010-01-01  0.9455  0.9457  0.9440  ...         NaN       False      False\n",
              "2010-01-04  0.9393  0.9513  0.9362  ...         NaN       False      False\n",
              "2010-01-05  0.9498  0.9516  0.9458  ...         NaN       False      False\n",
              "2010-01-06  0.9473  0.9510  0.9465  ...         NaN       False      False\n",
              "2010-01-07  0.9489  0.9540  0.9459  ...    0.947023       False       True\n",
              "\n",
              "[5 rows x 11 columns]"
            ]
          },
          "metadata": {
            "tags": []
          },
          "execution_count": 42
        }
      ]
    },
    {
      "cell_type": "code",
      "metadata": {
        "colab": {
          "base_uri": "https://localhost:8080/",
          "height": 335
        },
        "id": "ONmuapBD4Cb2",
        "outputId": "fdddb990-3d00-4cc5-a62a-a8e54c4c9114"
      },
      "source": [
        "df['positions_long'] = np.nan\r\n",
        "df.loc[df.long_entry, 'positions_long'] = 1\r\n",
        "df.loc[df.long_exit, 'positions_long'] = 0\r\n",
        "df.head(5)"
      ],
      "execution_count": null,
      "outputs": [
        {
          "output_type": "execute_result",
          "data": {
            "text/html": [
              "<div>\n",
              "<style scoped>\n",
              "    .dataframe tbody tr th:only-of-type {\n",
              "        vertical-align: middle;\n",
              "    }\n",
              "\n",
              "    .dataframe tbody tr th {\n",
              "        vertical-align: top;\n",
              "    }\n",
              "\n",
              "    .dataframe thead th {\n",
              "        text-align: right;\n",
              "    }\n",
              "</style>\n",
              "<table border=\"1\" class=\"dataframe\">\n",
              "  <thead>\n",
              "    <tr style=\"text-align: right;\">\n",
              "      <th></th>\n",
              "      <th>Open</th>\n",
              "      <th>High</th>\n",
              "      <th>Low</th>\n",
              "      <th>Close</th>\n",
              "      <th>Volume</th>\n",
              "      <th>moving_average</th>\n",
              "      <th>moving_std_dev</th>\n",
              "      <th>upper_band</th>\n",
              "      <th>lower_band</th>\n",
              "      <th>long_entry</th>\n",
              "      <th>long_exit</th>\n",
              "      <th>positions_long</th>\n",
              "    </tr>\n",
              "    <tr>\n",
              "      <th>Date</th>\n",
              "      <th></th>\n",
              "      <th></th>\n",
              "      <th></th>\n",
              "      <th></th>\n",
              "      <th></th>\n",
              "      <th></th>\n",
              "      <th></th>\n",
              "      <th></th>\n",
              "      <th></th>\n",
              "      <th></th>\n",
              "      <th></th>\n",
              "      <th></th>\n",
              "    </tr>\n",
              "  </thead>\n",
              "  <tbody>\n",
              "    <tr>\n",
              "      <th>2010-01-01</th>\n",
              "      <td>0.9455</td>\n",
              "      <td>0.9457</td>\n",
              "      <td>0.9440</td>\n",
              "      <td>0.9451</td>\n",
              "      <td>0</td>\n",
              "      <td>NaN</td>\n",
              "      <td>NaN</td>\n",
              "      <td>NaN</td>\n",
              "      <td>NaN</td>\n",
              "      <td>False</td>\n",
              "      <td>False</td>\n",
              "      <td>NaN</td>\n",
              "    </tr>\n",
              "    <tr>\n",
              "      <th>2010-01-04</th>\n",
              "      <td>0.9393</td>\n",
              "      <td>0.9513</td>\n",
              "      <td>0.9362</td>\n",
              "      <td>0.9494</td>\n",
              "      <td>0</td>\n",
              "      <td>NaN</td>\n",
              "      <td>NaN</td>\n",
              "      <td>NaN</td>\n",
              "      <td>NaN</td>\n",
              "      <td>False</td>\n",
              "      <td>False</td>\n",
              "      <td>NaN</td>\n",
              "    </tr>\n",
              "    <tr>\n",
              "      <th>2010-01-05</th>\n",
              "      <td>0.9498</td>\n",
              "      <td>0.9516</td>\n",
              "      <td>0.9458</td>\n",
              "      <td>0.9473</td>\n",
              "      <td>0</td>\n",
              "      <td>NaN</td>\n",
              "      <td>NaN</td>\n",
              "      <td>NaN</td>\n",
              "      <td>NaN</td>\n",
              "      <td>False</td>\n",
              "      <td>False</td>\n",
              "      <td>NaN</td>\n",
              "    </tr>\n",
              "    <tr>\n",
              "      <th>2010-01-06</th>\n",
              "      <td>0.9473</td>\n",
              "      <td>0.9510</td>\n",
              "      <td>0.9465</td>\n",
              "      <td>0.9490</td>\n",
              "      <td>0</td>\n",
              "      <td>NaN</td>\n",
              "      <td>NaN</td>\n",
              "      <td>NaN</td>\n",
              "      <td>NaN</td>\n",
              "      <td>False</td>\n",
              "      <td>False</td>\n",
              "      <td>NaN</td>\n",
              "    </tr>\n",
              "    <tr>\n",
              "      <th>2010-01-07</th>\n",
              "      <td>0.9489</td>\n",
              "      <td>0.9540</td>\n",
              "      <td>0.9459</td>\n",
              "      <td>0.9487</td>\n",
              "      <td>0</td>\n",
              "      <td>0.9479</td>\n",
              "      <td>0.001754</td>\n",
              "      <td>0.948777</td>\n",
              "      <td>0.947023</td>\n",
              "      <td>False</td>\n",
              "      <td>True</td>\n",
              "      <td>0.0</td>\n",
              "    </tr>\n",
              "  </tbody>\n",
              "</table>\n",
              "</div>"
            ],
            "text/plain": [
              "              Open    High     Low  ...  long_entry  long_exit  positions_long\n",
              "Date                                ...                                       \n",
              "2010-01-01  0.9455  0.9457  0.9440  ...       False      False             NaN\n",
              "2010-01-04  0.9393  0.9513  0.9362  ...       False      False             NaN\n",
              "2010-01-05  0.9498  0.9516  0.9458  ...       False      False             NaN\n",
              "2010-01-06  0.9473  0.9510  0.9465  ...       False      False             NaN\n",
              "2010-01-07  0.9489  0.9540  0.9459  ...       False       True             0.0\n",
              "\n",
              "[5 rows x 12 columns]"
            ]
          },
          "metadata": {
            "tags": []
          },
          "execution_count": 43
        }
      ]
    },
    {
      "cell_type": "markdown",
      "metadata": {
        "id": "ZgS5DWbP4KJc"
      },
      "source": [
        "**Forward fill Long Positions**"
      ]
    },
    {
      "cell_type": "code",
      "metadata": {
        "colab": {
          "base_uri": "https://localhost:8080/",
          "height": 335
        },
        "id": "5ZPqulzQ4PlZ",
        "outputId": "52bf6129-604c-4866-e44a-5454472c046a"
      },
      "source": [
        "df.positions_long = df.positions_long.fillna(method='ffill')\r\n",
        "df.head(5)"
      ],
      "execution_count": null,
      "outputs": [
        {
          "output_type": "execute_result",
          "data": {
            "text/html": [
              "<div>\n",
              "<style scoped>\n",
              "    .dataframe tbody tr th:only-of-type {\n",
              "        vertical-align: middle;\n",
              "    }\n",
              "\n",
              "    .dataframe tbody tr th {\n",
              "        vertical-align: top;\n",
              "    }\n",
              "\n",
              "    .dataframe thead th {\n",
              "        text-align: right;\n",
              "    }\n",
              "</style>\n",
              "<table border=\"1\" class=\"dataframe\">\n",
              "  <thead>\n",
              "    <tr style=\"text-align: right;\">\n",
              "      <th></th>\n",
              "      <th>Open</th>\n",
              "      <th>High</th>\n",
              "      <th>Low</th>\n",
              "      <th>Close</th>\n",
              "      <th>Volume</th>\n",
              "      <th>moving_average</th>\n",
              "      <th>moving_std_dev</th>\n",
              "      <th>upper_band</th>\n",
              "      <th>lower_band</th>\n",
              "      <th>long_entry</th>\n",
              "      <th>long_exit</th>\n",
              "      <th>positions_long</th>\n",
              "    </tr>\n",
              "    <tr>\n",
              "      <th>Date</th>\n",
              "      <th></th>\n",
              "      <th></th>\n",
              "      <th></th>\n",
              "      <th></th>\n",
              "      <th></th>\n",
              "      <th></th>\n",
              "      <th></th>\n",
              "      <th></th>\n",
              "      <th></th>\n",
              "      <th></th>\n",
              "      <th></th>\n",
              "      <th></th>\n",
              "    </tr>\n",
              "  </thead>\n",
              "  <tbody>\n",
              "    <tr>\n",
              "      <th>2010-01-01</th>\n",
              "      <td>0.9455</td>\n",
              "      <td>0.9457</td>\n",
              "      <td>0.9440</td>\n",
              "      <td>0.9451</td>\n",
              "      <td>0</td>\n",
              "      <td>NaN</td>\n",
              "      <td>NaN</td>\n",
              "      <td>NaN</td>\n",
              "      <td>NaN</td>\n",
              "      <td>False</td>\n",
              "      <td>False</td>\n",
              "      <td>NaN</td>\n",
              "    </tr>\n",
              "    <tr>\n",
              "      <th>2010-01-04</th>\n",
              "      <td>0.9393</td>\n",
              "      <td>0.9513</td>\n",
              "      <td>0.9362</td>\n",
              "      <td>0.9494</td>\n",
              "      <td>0</td>\n",
              "      <td>NaN</td>\n",
              "      <td>NaN</td>\n",
              "      <td>NaN</td>\n",
              "      <td>NaN</td>\n",
              "      <td>False</td>\n",
              "      <td>False</td>\n",
              "      <td>NaN</td>\n",
              "    </tr>\n",
              "    <tr>\n",
              "      <th>2010-01-05</th>\n",
              "      <td>0.9498</td>\n",
              "      <td>0.9516</td>\n",
              "      <td>0.9458</td>\n",
              "      <td>0.9473</td>\n",
              "      <td>0</td>\n",
              "      <td>NaN</td>\n",
              "      <td>NaN</td>\n",
              "      <td>NaN</td>\n",
              "      <td>NaN</td>\n",
              "      <td>False</td>\n",
              "      <td>False</td>\n",
              "      <td>NaN</td>\n",
              "    </tr>\n",
              "    <tr>\n",
              "      <th>2010-01-06</th>\n",
              "      <td>0.9473</td>\n",
              "      <td>0.9510</td>\n",
              "      <td>0.9465</td>\n",
              "      <td>0.9490</td>\n",
              "      <td>0</td>\n",
              "      <td>NaN</td>\n",
              "      <td>NaN</td>\n",
              "      <td>NaN</td>\n",
              "      <td>NaN</td>\n",
              "      <td>False</td>\n",
              "      <td>False</td>\n",
              "      <td>NaN</td>\n",
              "    </tr>\n",
              "    <tr>\n",
              "      <th>2010-01-07</th>\n",
              "      <td>0.9489</td>\n",
              "      <td>0.9540</td>\n",
              "      <td>0.9459</td>\n",
              "      <td>0.9487</td>\n",
              "      <td>0</td>\n",
              "      <td>0.9479</td>\n",
              "      <td>0.001754</td>\n",
              "      <td>0.948777</td>\n",
              "      <td>0.947023</td>\n",
              "      <td>False</td>\n",
              "      <td>True</td>\n",
              "      <td>0.0</td>\n",
              "    </tr>\n",
              "  </tbody>\n",
              "</table>\n",
              "</div>"
            ],
            "text/plain": [
              "              Open    High     Low  ...  long_entry  long_exit  positions_long\n",
              "Date                                ...                                       \n",
              "2010-01-01  0.9455  0.9457  0.9440  ...       False      False             NaN\n",
              "2010-01-04  0.9393  0.9513  0.9362  ...       False      False             NaN\n",
              "2010-01-05  0.9498  0.9516  0.9458  ...       False      False             NaN\n",
              "2010-01-06  0.9473  0.9510  0.9465  ...       False      False             NaN\n",
              "2010-01-07  0.9489  0.9540  0.9459  ...       False       True             0.0\n",
              "\n",
              "[5 rows x 12 columns]"
            ]
          },
          "metadata": {
            "tags": []
          },
          "execution_count": 44
        }
      ]
    },
    {
      "cell_type": "markdown",
      "metadata": {
        "id": "kLgvURsS4XJ2"
      },
      "source": [
        "# **SHORT POSITION**"
      ]
    },
    {
      "cell_type": "code",
      "metadata": {
        "id": "IeqTjZPZ4WXK"
      },
      "source": [
        "df['short_entry'] = df.Close > df.upper_band\r\n",
        "df['short_exit'] = df.Close <= df.moving_average\r\n",
        "\r\n",
        "df['positions_short'] = np.nan\r\n",
        "df.loc[df.short_entry, 'positions_short'] = -1\r\n",
        "df.loc[df.short_exit, 'positions_short'] = 0\r\n",
        "\r\n",
        "df.positions_short = df.positions_short.fillna(method='ffill')"
      ],
      "execution_count": null,
      "outputs": []
    },
    {
      "cell_type": "markdown",
      "metadata": {
        "id": "ltGNlLiY4hBJ"
      },
      "source": [
        "# **TOTAL POSITION**"
      ]
    },
    {
      "cell_type": "code",
      "metadata": {
        "id": "4HjP9lne4jXT"
      },
      "source": [
        "df['positions'] = df.positions_long + df.positions_short"
      ],
      "execution_count": null,
      "outputs": []
    },
    {
      "cell_type": "markdown",
      "metadata": {
        "id": "YfeUf__u4o4C"
      },
      "source": [
        "# **4.Cumulative Returns**"
      ]
    },
    {
      "cell_type": "code",
      "metadata": {
        "id": "Pn1-mOwX4rH4"
      },
      "source": [
        "df['percentage_change'] = df.Close.pct_change()\r\n",
        "df['strategy_returns'] = df.positions.shift(1) * df.percentage_change\r\n",
        "df['cumulative_returns'] = (df.strategy_returns+1).cumprod()"
      ],
      "execution_count": null,
      "outputs": []
    },
    {
      "cell_type": "code",
      "metadata": {
        "colab": {
          "base_uri": "https://localhost:8080/",
          "height": 411
        },
        "id": "-R9gliAA4xbE",
        "outputId": "e8f902b2-13f4-4c82-9181-748654423df6"
      },
      "source": [
        "df.cumulative_returns.plot(label='Cumulative Returns', figsize=(10, 7))\r\n",
        "plt.xlabel('Date')\r\n",
        "plt.ylabel('Cumulative Returns')\r\n",
        "plt.show()"
      ],
      "execution_count": null,
      "outputs": [
        {
          "output_type": "display_data",
          "data": {
            "image/png": "[encoded data removed]",
            "text/plain": [
              "<Figure size 720x504 with 1 Axes>"
            ]
          },
          "metadata": {
            "tags": []
          }
        }
      ]
    },
    {
      "cell_type": "markdown",
      "metadata": {
        "id": "bBzuk5qDRbLn"
      },
      "source": [
        "\r\n",
        "\r\n",
        "# **5.Calculate the max drawdown**\r\n",
        "\r\n"
      ]
    },
    {
      "cell_type": "code",
      "metadata": {
        "colab": {
          "base_uri": "https://localhost:8080/",
          "height": 429
        },
        "id": "vkAc42lhRasY",
        "outputId": "853558df-810c-4c34-a6ca-2d7dcb524688"
      },
      "source": [
        "def calc_drawdown(cum_rets):\r\n",
        "    # Calculate the running maximum\r\n",
        "    running_max = np.maximum.accumulate(cum_rets.dropna())\r\n",
        "    # Ensure the value never drops below 1\r\n",
        "    running_max[running_max < 1] = 1\r\n",
        "    # Calculate the percentage drawdown\r\n",
        "    drawdown = (cum_rets)/running_max - 1\r\n",
        "    return drawdown\r\n",
        "\r\n",
        "\r\n",
        "def plot_drawdown(drawdown):\r\n",
        "    fig = plt.figure(figsize=(10, 7))\r\n",
        "    # Plot\r\n",
        "    drawdown.plot(color='r')\r\n",
        "    plt.ylabel('Returns')\r\n",
        "    plt.fill_between(drawdown.index, drawdown, color='red')\r\n",
        "    plt.grid(which=\"major\", color='k', linestyle='-.', linewidth=0.2)\r\n",
        "    plt.show()\r\n",
        "\r\n",
        "\r\n",
        "drawdown = calc_drawdown(df.cumulative_returns)\r\n",
        "print(\"The maximum drawdown is %.2f\" % (drawdown.min()*100))\r\n",
        "plot_drawdown(drawdown)"
      ],
      "execution_count": null,
      "outputs": [
        {
          "output_type": "stream",
          "text": [
            "The maximum drawdown is -11.25\n"
          ],
          "name": "stdout"
        },
        {
          "output_type": "display_data",
          "data": {
            "image/png": "[encoded data removed]",
            "text/plain": [
              "<Figure size 720x504 with 1 Axes>"
            ]
          },
          "metadata": {
            "tags": []
          }
        }
      ]
    }
  ]
}